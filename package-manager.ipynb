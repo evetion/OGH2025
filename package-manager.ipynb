{
 "cells": [
  {
   "cell_type": "markdown",
   "metadata": {},
   "source": [
    "# The Julia Package manager\n",
    "\n",
    "A key strength of Julia is that it is easy to reuse other peoples code. To facilitate this, Julia includes a package manager, named Pkg. Here are some of the things it does:\n",
    "\n",
    "- adding and removing packages\n",
    "- create project environments using Project.toml\n",
    "- allow fully reproducible projects using Manifest.toml\n",
    "- specifying compatibility with dependencies\n",
    "- facilitate developing packages\n",
    "\n",
    "## Links\n",
    "- Pkg documentation - https://julialang.github.io/Pkg.jl/v1/\n",
    "- BinaryBuilder, package binary dependencies - https://binarybuilder.org/\n",
    "- Package compiler, bundle relocatable projects - https://julialang.github.io/PackageCompiler.jl/dev/\n",
    "- General package registry - https://github.com/JuliaRegistries/General/\n",
    "- JuliaHub, browse available packages - https://juliahub.com/"
   ]
  },
  {
   "cell_type": "code",
   "execution_count": null,
   "metadata": {},
   "outputs": [],
   "source": [
    "versioninfo()"
   ]
  },
  {
   "cell_type": "markdown",
   "metadata": {},
   "source": [
    "## Adding and removing packages"
   ]
  },
  {
   "cell_type": "markdown",
   "metadata": {},
   "source": [
    "The most convenient way to use the package manager is to use the Pkg REPL-mode. To enter the Pkg REPL-mode in an interactive session, type `]` in the prompt. The prompt indicator will go from `julia>` to `pkg>`. In a Jupyter notebook, just start the cell with `]` for the same effect. Remember that with `]?` you can always get help on the Pkg REPL-mode, and `]?add` for specific help for `add`, or any other command."
   ]
  },
  {
   "cell_type": "code",
   "execution_count": null,
   "metadata": {
    "collapsed": false,
    "jupyter": {
     "outputs_hidden": false,
     "source_hidden": false
    },
    "nteract": {
     "transient": {
      "deleting": false
     }
    },
    "outputExpanded": false,
    "tags": []
   },
   "outputs": [],
   "source": [
    "]?"
   ]
  },
  {
   "cell_type": "markdown",
   "metadata": {},
   "source": [
    "You can add packages to your current environment using `]add Example`. It is also possible to add multiple packages at the same time, or specify a desired version. By default it will add the most recent version that is compatible with the packages that are already installed."
   ]
  },
  {
   "cell_type": "code",
   "execution_count": null,
   "metadata": {},
   "outputs": [],
   "source": [
    "using Pkg\n",
    "Pkg.add(\"UnicodePlots\")"
   ]
  },
  {
   "cell_type": "markdown",
   "metadata": {},
   "source": [
    "When packages are added to an environment, they can directly be used. The first time a (new version of a) package is loaded, it will precompile the code, to make it faster to load in the future. If you want, you can also force this to happen for all packages using `]precompile`."
   ]
  },
  {
   "cell_type": "code",
   "execution_count": null,
   "metadata": {},
   "outputs": [],
   "source": [
    "using UnicodePlots"
   ]
  },
  {
   "cell_type": "markdown",
   "metadata": {},
   "source": [
    "[UnicodePlots](https://github.com/Evizero/UnicodePlots.jl) is a fun package, which allows making plots composed entirely of text characters. We can try it out by generating 10 thousand normally distributed random numbers, and making a histogram."
   ]
  },
  {
   "cell_type": "code",
   "execution_count": null,
   "metadata": {},
   "outputs": [],
   "source": [
    "histogram(randn(10_000))"
   ]
  },
  {
   "cell_type": "markdown",
   "metadata": {},
   "source": [
    "Note that packages can rely on binaries. This is integrated into the design of Pkg, to provide a smooth installation experience. So, for example, people installing the Julia wrapper for the GDAL library, will automatically download a compatible GDAL installation compiled for their system. This is not installed globally, so will not interfere with the rest of the system. See https://binarybuilder.org/ to learn more about how this system works."
   ]
  },
  {
   "cell_type": "markdown",
   "metadata": {},
   "source": [
    "## Working with environments\n",
    "\n",
    "When collaborating on a project, you want it to work the same on everyones computer. However, the default environment probably looks different for everybody, depending on the packages they have installed. This can mean not everyone has the same version of packages your project depends on. Not great for reproducible science!\n",
    "\n",
    "Luckily Julia's package manager has the concept of environments. They can be created using `]activate path`, where path is the directory where the project is located, so `]activate .` creates an environment in the current directory."
   ]
  },
  {
   "cell_type": "code",
   "execution_count": null,
   "metadata": {},
   "outputs": [],
   "source": [
    "]activate MyJuliaProject"
   ]
  },
  {
   "cell_type": "markdown",
   "metadata": {},
   "source": [
    "Now you can add packages that your project relies on. Note that if the same version of the package is already installed on your computer, for instance in another environment, it will use the same copy, to save space."
   ]
  },
  {
   "cell_type": "code",
   "execution_count": null,
   "metadata": {},
   "outputs": [],
   "source": [
    "]add Example"
   ]
  },
  {
   "cell_type": "markdown",
   "metadata": {},
   "source": [
    "To see the packages added to your current environment, use `]status`, or use `]status Example` to only display a single package."
   ]
  },
  {
   "cell_type": "code",
   "execution_count": null,
   "metadata": {},
   "outputs": [],
   "source": [
    "]status"
   ]
  },
  {
   "cell_type": "markdown",
   "metadata": {},
   "source": [
    "The state of your environment is captured in two files, the `Project.toml` and `Manifest.toml` files. We can print out their contents below."
   ]
  },
  {
   "cell_type": "code",
   "execution_count": null,
   "metadata": {},
   "outputs": [],
   "source": [
    "println(read(\"MyJuliaProject/Project.toml\", String))"
   ]
  },
  {
   "cell_type": "code",
   "execution_count": null,
   "metadata": {},
   "outputs": [],
   "source": [
    "println(read(\"MyJuliaProject/Manifest.toml\", String))"
   ]
  },
  {
   "cell_type": "markdown",
   "metadata": {},
   "source": [
    "In short, the `Project.toml` file lists the dependencies under a `[deps]` section. It also supports other entries that can be added manually, for instance to add metadata or specify compatibility. The `Manifest.toml` specifies exactly which versions of both direct and indirect dependencies are used. If you share a `Manifest.toml` with someone, and someone uses `]instantiate` on it, they will be able to run your project with exactly the same dependencies.\n",
    "\n",
    "More information can be found in these chapters of the documentation:\n",
    "- https://julialang.github.io/Pkg.jl/v1/environments/\n",
    "- https://julialang.github.io/Pkg.jl/v1/toml-files/\n",
    "- https://julialang.github.io/Pkg.jl/v1/compatibility/"
   ]
  },
  {
   "cell_type": "markdown",
   "metadata": {},
   "source": [
    "## Binary packages\n",
    "We stand on the shoulders of giants. This goes for most research, but also for our geospatial stack. Everyone uses GDAL, GEOS and PROJ directly, or indirectly. These C(++) packages need to be compiled to work on our systems and this has often been difficult. In Julia, we've tried to solve this, much like conda does, but more built into the language itself."
   ]
  },
  {
   "cell_type": "code",
   "execution_count": null,
   "metadata": {
    "scrolled": true
   },
   "outputs": [],
   "source": [
    "]add GDAL"
   ]
  },
  {
   "cell_type": "code",
   "execution_count": null,
   "metadata": {},
   "outputs": [],
   "source": [
    "]test GDAL"
   ]
  },
  {
   "cell_type": "markdown",
   "metadata": {},
   "source": [
    "## Developing a package\n",
    "\n",
    "How to create your own package or make changes to someone elses package is out of scope for this tutorial. We can give you some references however.\n",
    "\n",
    "If you want to make changes to an existing package, you can run `]dev Example` to put the git repository in your home directory under `.julia/dev/Example`. See also the usage example of the Revise package linked below.\n",
    "\n",
    "- Revise.jl https://timholy.github.io/Revise.jl/stable/\n",
    "- Look at a simple example package for how to structure code https://github.com/JuliaLang/Example.jl\n",
    "- Video tutorial on developing Julia packages https://youtu.be/QVmU29rCjaA\n",
    "- This automates creating packages including testing services and more https://github.com/invenia/PkgTemplates.jl"
   ]
  },
  {
   "cell_type": "markdown",
   "metadata": {},
   "source": [
    "## Exercise\n",
    "\n",
    "Use https://juliahub.com/ui/Search?q=&type=packages, https://discourse.julialang.org/ or simply a web search to browse and find packages that seem interesting to you, and install them using the package manager.\n",
    "\n",
    "If you have time, you can use the documentation or GitHub page of a package to try it out.\n",
    "\n",
    "This is intended simply as an open ended exercise to make you more familiar with discovering and installing packages.\n",
    "\n",
    "To help, here is a small list of packages that some of you may be interested in:\n",
    "- [ShallowWaters - hydrodynamic model](https://github.com/milankl/ShallowWaters.jl)\n",
    "- [Oceananigans - hydrodynamic model](https://github.com/CliMA/Oceananigans.jl)\n",
    "- [MPI - parallel computing](https://github.com/JuliaParallel/MPI.jl)\n",
    "- [ArchGDAL - geospatial data](https://github.com/yeesian/ArchGDAL.jl)\n",
    "- [NCDatasets - NetCDF data](https://github.com/Alexander-Barth/NCDatasets.jl)\n",
    "- [GeometryBasics - geometry primitives](https://github.com/JuliaGeometry/GeometryBasics.jl)\n",
    "- [MLJ - machine learning](https://alan-turing-institute.github.io/MLJ.jl/stable/)\n",
    "- [Turing - probabilistic programming](https://turing.ml/dev/)\n",
    "- [Flux - deep learning](https://fluxml.ai/)\n",
    "- [Unitful - track units](https://painterqubits.github.io/Unitful.jl/latest/)\n",
    "- [Measurements - track uncertainty](https://juliaphysics.github.io/Measurements.jl/stable/)\n",
    "- [DataAssim - data assimilation](https://github.com/Alexander-Barth/DataAssim.jl)\n",
    "- [GeoStats - geostatistics](https://github.com/JuliaEarth/GeoStats.jl)\n"
   ]
  },
  {
   "cell_type": "code",
   "execution_count": null,
   "metadata": {},
   "outputs": [],
   "source": []
  }
 ],
 "metadata": {
  "kernel_info": {
   "name": "julia-1.5"
  },
  "kernelspec": {
   "display_name": "Julia 1.11.6",
   "language": "julia",
   "name": "julia-1.11"
  },
  "language_info": {
   "file_extension": ".jl",
   "mimetype": "application/julia",
   "name": "julia",
   "version": "1.11.6"
  },
  "nteract": {
   "version": "0.23.1"
  }
 },
 "nbformat": 4,
 "nbformat_minor": 4
}
