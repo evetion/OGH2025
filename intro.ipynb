{
 "cells": [
  {
   "cell_type": "markdown",
   "metadata": {},
   "source": [
    "# Introduction: What is Julia"
   ]
  },
  {
   "cell_type": "markdown",
   "metadata": {},
   "source": [
    "Julia is a high-level, high-performance, dynamic programming language well-suited for high-performance numerical analysis and computational science. Or, as stated by its makers; [..] each [programming language] is perfect for some aspects of the work and terrible for others. Each one is a trade-off."
   ]
  },
  {
   "cell_type": "markdown",
   "metadata": {},
   "source": [
    ">**We are greedy: we want more.**\n",
    ">We want a language that's open source, with a liberal license. We want the speed of C with the dynamism of Ruby. We want a language that's homoiconic, with true macros like Lisp, but with obvious, familiar mathematical notation like Matlab. We want something as usable for general programming as Python, as easy for statistics as R, as natural for string processing as Perl, as powerful for linear algebra as Matlab, as good at gluing programs together as the shell. Something that is dirt simple to learn, yet keeps the most serious hackers happy. We want it interactive and we want it compiled."
   ]
  },
  {
   "cell_type": "markdown",
   "metadata": {},
   "source": [
    "- Made in 2009 at MIT by Jeff Bezanson, Stefan Karpinski, Viral B. Shah, and Alan Edelman.\n",
    "- First released in 2012, v1.0 release in 2018. Currently at v1.11.6 with 1.12 around the corner (rc).\n",
    "- Open MIT license, developed on Github, currently at 58k commits, 1500 contributors and 46k stars.\n",
    "- Only 13 years old (!)"
   ]
  },
  {
   "cell_type": "markdown",
   "metadata": {},
   "source": [
    "## Solving the two language problem\n",
    "Normally you have two languages.\n",
    "- A language to prototype, easy but slow (Python, R, Matlab)\n",
    "- A language for production, hard but fast (C, C++, Fortran)\n",
    "\n",
    "This happens everywhere, and you might not notice it at first. Most of our (geospatial) packages depend on C++ libraries, like GDAL, GEOS and PROJ. Packages like numpy and [pytorch](https://github.com/pytorch/pytorch) in Python use a lot of C(++) under the hood."
   ]
  },
  {
   "cell_type": "markdown",
   "metadata": {
    "tags": []
   },
   "source": [
    "Julia is used by many companies around the world. Noticable uses include financial analysis by investors/banks. Of interest to us is the [Celeste](https://github.com/jeff-regier/Celeste.jl) project in 2017 where Julia was used or astronomical analysis to achieve 1.54 petaFLOPS using 1.3 million threads on a supercomputer. And the \n",
    "Climate Modeling Alliance (CLIMA) who use Julia for their next-gen global climate model [Oceananigans.jl](https://github.com/CliMA/Oceananigans.jl.).\n",
    "\n",
    "At my employer, Deltares, Julia was first tried out when working on large scale pointclouds by Martijn Visser. Python was too slow, but C++ was a step too far. The language was still in its infancy, so there were some issues, but it generally worked well and enabled us to process the billions of lidar points for our elevation mapping project in Indonesia. The used and generated packages are now part of JuliaGeo: https://juliageo.org/, with geospatial libraries linked such as GDAL, GEOS, Proj etc. Nowadays, we build open-source numerical models in Julia, such as [Wflow.jl](https://github.com/Deltares/Wflow.jl) and [Ribasim.jl](https://github.com/Deltares/Ribasim)."
   ]
  },
  {
   "cell_type": "markdown",
   "metadata": {
    "tags": []
   },
   "source": [
    "---\n",
    "## Features"
   ]
  },
  {
   "cell_type": "markdown",
   "metadata": {
    "tags": []
   },
   "source": [
    "### Multiple dispatch\n",
    "Julia is a dynamically typed language, like Matlab or Python, so it will try to figure out the correct types on the fly and compile for just those types (just in time compilation). Specifying types is optional, and can be used for instance so select the right method based on input types. We call this multiple dispatch."
   ]
  },
  {
   "cell_type": "code",
   "execution_count": null,
   "metadata": {},
   "outputs": [],
   "source": [
    "\"\"\"\n",
    "    power(a, b)\n",
    "\n",
    "Generic `power`.\n",
    "\"\"\"\n",
    "function power(a, b)\n",
    "    a^b\n",
    "end\n",
    "\n",
    "\"\"\"\n",
    "    power(a::Integer, b::Integer)\n",
    "\n",
    "Special case for `power` handling of Integers.\n",
    "\"\"\"\n",
    "function power(a::Integer, b::Integer)\n",
    "    # special sauce here\n",
    "    @info \"hello integers\"\n",
    "    a^b::Integer  # type isn't required here as it is inferred\n",
    "end"
   ]
  },
  {
   "cell_type": "code",
   "execution_count": null,
   "metadata": {},
   "outputs": [],
   "source": [
    "?power"
   ]
  },
  {
   "cell_type": "markdown",
   "metadata": {},
   "source": [
    "---\n",
    "User-defined types are as fast and compact as built-ins. This means that creating your own types is fully supported and with a few lines can be  understood by the ecosystem. This example also makes use of multiple dispatch, to which I come back later."
   ]
  },
  {
   "cell_type": "code",
   "execution_count": null,
   "metadata": {},
   "outputs": [],
   "source": [
    "struct MyMeasurement\n",
    "    val::Float64\n",
    "    err::Float64\n",
    "end\n",
    "Base.:*(m::MyMeasurement, other::Number) = MyMeasurement(m.val * other, m.err * other)\n",
    "MyMeasurement(1.0, 0.1) * 2.0"
   ]
  },
  {
   "cell_type": "code",
   "execution_count": null,
   "metadata": {
    "tags": []
   },
   "outputs": [],
   "source": [
    "methods(*)"
   ]
  },
  {
   "cell_type": "markdown",
   "metadata": {},
   "source": [
    "---\n",
    "### Interopability\n",
    "Call C or Fortran functions directly (no wrappers or special APIs needed). Many of the types are identical, so they can be load/cast without copies. Python interopability is also supported with PyCall.jl, and R with RCall.jl."
   ]
  },
  {
   "cell_type": "code",
   "execution_count": null,
   "metadata": {},
   "outputs": [],
   "source": [
    "ccall(:clock, Int32, ())"
   ]
  },
  {
   "cell_type": "markdown",
   "metadata": {},
   "source": [
    "---\n",
    "### Unicode\n",
    "Efficient support for Unicode, including but not limited to UTF-8. This makes it easier to have code that looks similar to the equations as you may read them in a paper."
   ]
  },
  {
   "cell_type": "code",
   "execution_count": null,
   "metadata": {},
   "outputs": [],
   "source": [
    "# use actual example\n",
    "using Statistics\n",
    "values = [1,2,3,4,5]\n",
    "√(sum((values .- mean(values)).^2) / (length(values) - 1))\n",
    "\n",
    "println(π * 1.0)\n",
    "\n",
    "🎲() = rand(1:6)  # you can go too far... 😜\n",
    "🎲()\n",
    "ρ = 1.0"
   ]
  },
  {
   "cell_type": "markdown",
   "metadata": {},
   "source": [
    "---\n",
    "### Performance\n",
    "No need to vectorize code for performance; devectorized code is fast. Just write out your ```for``` loops. Note that for actual benchmarking, please use BenchmarkTools and it's macro `@btime`."
   ]
  },
  {
   "cell_type": "code",
   "execution_count": null,
   "metadata": {},
   "outputs": [],
   "source": [
    "# Euler–Riemann zeta function\n",
    "function ζ()\n",
    "    total = 0.0\n",
    "    for k = 1:100_000_000\n",
    "        total += 1.0/(k*k)\n",
    "    end\n",
    "    sqrt(total*6)\n",
    "end\n",
    "@time @info ζ()  # note that you want to precompile functions and you need a proper benchmark, please use BenchmarkTools\n",
    "\n",
    "# For completeness, the vectorized notation\n",
    "function ζv()\n",
    "    a = 1:100_000_000\n",
    "    total = sum(1 ./ (a.*a))\n",
    "    sqrt(total*6)\n",
    "end\n",
    "@time @info ζv()\n",
    "\n",
    "a = [1,2,3]"
   ]
  },
  {
   "cell_type": "markdown",
   "metadata": {},
   "source": [
    "We can also introspect our code to understand what's happening (only when you need to, but it's nice to know it's possible)"
   ]
  },
  {
   "cell_type": "code",
   "execution_count": null,
   "metadata": {},
   "outputs": [],
   "source": [
    "@code_warntype ζ()"
   ]
  },
  {
   "cell_type": "markdown",
   "metadata": {
    "tags": []
   },
   "source": [
    "---\n",
    "### Arrays\n",
    "Full support for Multi-Dimensional Arrays. Unlike Python, which needs Numpy for arrays (itself built in C btw), Julia support multi-dimensional arrays out of the box."
   ]
  },
  {
   "cell_type": "code",
   "execution_count": null,
   "metadata": {},
   "outputs": [],
   "source": [
    "A = rand(5)  # random\n",
    "B = ones(5,2,3)  # 5x2x3 array of 1s\n",
    "C = Matrix(undef, 5, 5)  # initialize without (re)setting memory values\n",
    "\n",
    "[1,2,3,4,5] .* [1,2,3,4,5]"
   ]
  },
  {
   "cell_type": "markdown",
   "metadata": {},
   "source": [
    "---\n",
    "### Metaprogramming\n",
    "Lisp-like macros and other metaprogramming facilities. Julia represents its own code as a data structure of the language itself. This enables macros, but in the end *anything* you can think of. We've used it to generate thousands of lines of code that would normally have to be handwritten. It's really programming your programming.\n"
   ]
  },
  {
   "cell_type": "code",
   "execution_count": null,
   "metadata": {},
   "outputs": [],
   "source": [
    "# Everything's a string first\n",
    "prog = \"1 + 1\"\n",
    "ex1 = Meta.parse(prog)\n",
    "println(\"$(typeof(ex1)) $ex1\")\n",
    "\n",
    "# An expression has a head and args\n",
    "println(ex1.head)\n",
    "println(ex1.args)\n",
    "\n",
    "# You can create this yourself as well\n",
    "ex2 = Expr(:call, :+, 1, 1)\n",
    "ex2 == ex1"
   ]
  },
  {
   "cell_type": "markdown",
   "metadata": {},
   "source": [
    "If you feel lost now, don't worry, you don't need this now. Julia is easy to learn and use. If you become an expert over time, the language can scale with you, providing these more advanced features."
   ]
  },
  {
   "cell_type": "markdown",
   "metadata": {},
   "source": [
    "---\n",
    "### Package manager\n",
    "A built in package manager. This prevents the need for many distributions and or tools such as anaconda and pip. A deeped dive into the package manager is provided in the other notebook(s). Testing is also integrated, which makes it easy to make new packages."
   ]
  },
  {
   "cell_type": "code",
   "execution_count": null,
   "metadata": {},
   "outputs": [],
   "source": [
    "]?"
   ]
  },
  {
   "cell_type": "markdown",
   "metadata": {},
   "source": [
    "## When to use\n",
    "This lecture aims at giving you a good introduction to Julia and to understand when you could choose to use it. We do not propose you dump Python, Matlab, Fortran or C++ now (well, maybe Matlab). As described above, we think the clear use case for Julia is technical computing. Domain specific programs that require High Performance Computing (HPC).\n",
    "\n",
    "We still use Python a lot for simple scripts or webservices and advise you to keep doing that. However, if you hit the limits of what you can do with Python or R, you might want to try Julia."
   ]
  },
  {
   "cell_type": "markdown",
   "metadata": {},
   "source": [
    "The main drawback of Julia is the young ecosystem, while there are multiple state of the art libraries, mainly focused on computing, the ecosystem is lacking for more general programming, compared to a language like Python."
   ]
  },
  {
   "cell_type": "markdown",
   "metadata": {},
   "source": [
    "## Exercise\n",
    "Please try to make a function that:\n",
    "- prints \"Hello World\"\n",
    "- takes a `name` argument and prints \"Hello Maarten\" if the given name is \"Maarten\"\n",
    "- takes a `name` argument but prints \"Hello World\" if the give name is empty\n",
    "\n",
    "See the manual to help you out https://docs.julialang.org/en/v1/manual/functions/"
   ]
  },
  {
   "cell_type": "code",
   "execution_count": null,
   "metadata": {},
   "outputs": [],
   "source": [
    "# please write your function here. Shift enter or the play button above executes it"
   ]
  },
  {
   "cell_type": "markdown",
   "metadata": {},
   "source": [
    "## The community\n",
    "\n",
    "If you have questions, found a bug, or anything you want to discuss please check https://julialang.org/community/. For example there are several places to find help:\n",
    "- Forum https://discourse.julialang.org/\n",
    "- Julia Slack\n",
    "- Julia Zulip (slack alternative without amnesia)\n",
    "\n",
    "Alternatively, and please don't underestimate this, make an issue on the package you have an issue with/question about. Packages can only improve with your help!\n"
   ]
  },
  {
   "cell_type": "code",
   "execution_count": null,
   "metadata": {},
   "outputs": [],
   "source": []
  },
  {
   "cell_type": "code",
   "execution_count": null,
   "metadata": {},
   "outputs": [],
   "source": []
  },
  {
   "cell_type": "code",
   "execution_count": null,
   "metadata": {},
   "outputs": [],
   "source": []
  }
 ],
 "metadata": {
  "kernelspec": {
   "display_name": "Julia 1.11.6",
   "language": "julia",
   "name": "julia-1.11"
  },
  "language_info": {
   "file_extension": ".jl",
   "mimetype": "application/julia",
   "name": "julia",
   "version": "1.11.6"
  },
  "toc-autonumbering": true,
  "toc-showcode": false,
  "toc-showmarkdowntxt": false
 },
 "nbformat": 4,
 "nbformat_minor": 4
}
