{
 "cells": [
  {
   "cell_type": "markdown",
   "metadata": {},
   "source": [
    "# Noteworthy differences"
   ]
  },
  {
   "cell_type": "markdown",
   "metadata": {},
   "source": [
    "Coming from Python, MATLAB or R, how does the experience translate to Julia? Note, also see https://docs.julialang.org/en/v1/manual/noteworthy-differences for a complete overview. Please keep the manual next https://docs.julialang.org/en/v1/manual to this course and try to use the ? help function in the REPL prompt.\n",
    "\n",
    "There's also a nice cheatsheet at https://cheatsheets.quantecon.org/"
   ]
  },
  {
   "cell_type": "markdown",
   "metadata": {
    "tags": []
   },
   "source": [
    "## Not object oriented\n",
    "Julia is not (really) objected oriented, functions don't belong to a single object (or type). Hence, the syntax is often `f(x)` and not `x.f()`. The dot notation is reserved for accessing properties (or fields) of the type."
   ]
  },
  {
   "cell_type": "code",
   "execution_count": null,
   "metadata": {},
   "outputs": [],
   "source": [
    "A = (1,2,3)\n",
    "length(A)\n",
    "A.length"
   ]
  },
  {
   "cell_type": "markdown",
   "metadata": {},
   "source": [
    "## Difference between single and double quotes\n",
    "There's a difference between `'` and `\"` quotes in Julia, whereas in Python they can both be used for strings. In Julia the single quote is used for characters."
   ]
  },
  {
   "cell_type": "code",
   "execution_count": null,
   "metadata": {},
   "outputs": [],
   "source": [
    "println(typeof('a'))\n",
    "println(typeof(\"bb\"))\n",
    "println(\"\"\"a string with odd \" characters '... \"\"\")\n",
    "'tryout'"
   ]
  },
  {
   "cell_type": "markdown",
   "metadata": {},
   "source": [
    "## Built in Array support\n",
    "In Python you need numpy to have arrays and their related operations. In Julia its built-in:"
   ]
  },
  {
   "cell_type": "code",
   "execution_count": null,
   "metadata": {},
   "outputs": [],
   "source": [
    "# Vector of [1,1,1,1,1]\n",
    "ones(5)\n",
    "\n",
    "# Random two dimensional matrix\n",
    "nine = rand(3,3)"
   ]
  },
  {
   "cell_type": "markdown",
   "metadata": {},
   "source": [
    "Note however that the order of columns and rows is different than what you're used to. Multidimensional arrays in Julia are stored in column-major order:"
   ]
  },
  {
   "cell_type": "code",
   "execution_count": null,
   "metadata": {},
   "outputs": [],
   "source": [
    "x = [1 2; 3 4]"
   ]
  },
  {
   "cell_type": "code",
   "execution_count": null,
   "metadata": {
    "tags": []
   },
   "outputs": [],
   "source": [
    "x[:]"
   ]
  },
  {
   "cell_type": "markdown",
   "metadata": {
    "tags": []
   },
   "source": [
    "## Missing support\n",
    "Whereas in Python you would use the numpy masking function, Julia has a built-in Missing type for this. It corresponds to the `NULL` from SQL or `NA` in R. It propagates through the use of normal math functions. There's also `nothing`, like Pythons None."
   ]
  },
  {
   "cell_type": "code",
   "execution_count": null,
   "metadata": {},
   "outputs": [],
   "source": [
    "A = [1, missing]"
   ]
  },
  {
   "cell_type": "code",
   "execution_count": null,
   "metadata": {},
   "outputs": [],
   "source": [
    "A .* 2"
   ]
  },
  {
   "cell_type": "code",
   "execution_count": null,
   "metadata": {},
   "outputs": [],
   "source": [
    "collect(skipmissing(A))"
   ]
  },
  {
   "cell_type": "markdown",
   "metadata": {},
   "source": [
    "## Usage of `end` statement\n",
    "In Python the loop is ended by indentation:\n",
    "\n",
    "```python\n",
    "for x in collection:\n",
    "    something()\n",
    "\n",
    "# end of loop\n",
    "```"
   ]
  },
  {
   "cell_type": "markdown",
   "metadata": {},
   "source": [
    "While in Julia, you need to explicitly end the loop. The same goes for `function`s, `while`s, `if`s and `else`s and similar constructs:"
   ]
  },
  {
   "cell_type": "code",
   "execution_count": null,
   "metadata": {},
   "outputs": [],
   "source": [
    "function square(number::Int)\n",
    "    number^2\n",
    "end\n",
    "\n",
    "for x in 1:10\n",
    "    square(x)\n",
    "end\n",
    "\n",
    "if 1 > 10\n",
    "    println(\"What?!\")\n",
    "else\n",
    "    @info \"This seems a sensible result\"\n",
    "end"
   ]
  },
  {
   "cell_type": "markdown",
   "metadata": {},
   "source": [
    "Note that you also don't need the `:` character from Python."
   ]
  },
  {
   "cell_type": "markdown",
   "metadata": {},
   "source": [
    "## Indexing\n",
    "Depending on which language you come from, this can be odd, Julia uses one based indexing, just like Fortran. But unlike C and C-like languages such as Python. However, there are options to override this and have custom indexing, not only 0 based, but also custom loops etc."
   ]
  },
  {
   "cell_type": "code",
   "execution_count": null,
   "metadata": {},
   "outputs": [],
   "source": [
    "a = [1,2,3]\n",
    "println(a[1])\n",
    "println(a[end])\n",
    "println(a[1:2])\n",
    "println(a[1:3])\n",
    "println(a[1:end])\n",
    "\n",
    "b = rand(3,3)\n",
    "println(b[1, :])  # 1 column\n",
    "println(b[:, 1])  # 1 row\n",
    "\n",
    "a[0]  # BoundsError"
   ]
  },
  {
   "cell_type": "markdown",
   "metadata": {},
   "source": [
    "Indexing with logic is supported, although the size of these arrays must match (unlike R)."
   ]
  },
  {
   "cell_type": "code",
   "execution_count": null,
   "metadata": {},
   "outputs": [],
   "source": [
    "@show a[a .> 1]\n",
    "@show a[[true, true, false]]\n",
    "\n",
    "a[[true]]  # errors"
   ]
  },
  {
   "cell_type": "markdown",
   "metadata": {},
   "source": [
    "Although it would more Julian to work with predicates, and maybe operate in place (reducing allocatings by mutating the array):"
   ]
  },
  {
   "cell_type": "code",
   "execution_count": null,
   "metadata": {},
   "outputs": [],
   "source": [
    "@info filter(x -> x>1, a)\n",
    "@info a\n",
    "filter!(x -> x>1, a)  # ! indicates a mutating function\n",
    "a"
   ]
  },
  {
   "cell_type": "markdown",
   "metadata": {},
   "source": [
    "## Exercises\n",
    "We give a few problems here to try out, in a few minutes we'll provide our answers to them. Note that you could share them using [repl.it](repl.it) and generating a link there. In that way we can help you with your problems."
   ]
  },
  {
   "cell_type": "markdown",
   "metadata": {},
   "source": [
    "---\n",
    "Try to generate a few Arrays, either with `rand`, `range` or typed out and add/substract these two arrays. You can also `fill!` them. What does the `!` indicate in that function?\n"
   ]
  },
  {
   "cell_type": "code",
   "execution_count": null,
   "metadata": {},
   "outputs": [],
   "source": [
    "range"
   ]
  },
  {
   "cell_type": "markdown",
   "metadata": {},
   "source": [
    "---\n",
    "Use `hcat` or `vcat` to concatenate these two arrays and if that fails, try to understand why. You can get the size or dimensions of an Array with `length` and `ndim`. See https://docs.julialang.org/en/v1/manual/arrays/ for an overview."
   ]
  },
  {
   "cell_type": "code",
   "execution_count": null,
   "metadata": {},
   "outputs": [],
   "source": []
  },
  {
   "cell_type": "markdown",
   "metadata": {},
   "source": [
    "---\n",
    "Try to slice any of the previously made arrays and get one value out of there. Can you also assign a single value to a specific point in your array? What happens if you put in an Integer instead in an Array of floats? What happens if you compare (`==`) your two Arrays? And what happens if you do `.==`?"
   ]
  },
  {
   "cell_type": "code",
   "execution_count": null,
   "metadata": {},
   "outputs": [],
   "source": []
  },
  {
   "cell_type": "markdown",
   "metadata": {},
   "source": [
    "---\n",
    "Let's try to apply some common algebra functions to your arrays. Can you use `'` (transpose)? Or use the `dot` function. Maybe the `inv` of your Matrix? See https://docs.julialang.org/en/v1/stdlib/LinearAlgebra/#Linear-Algebra-1 for an overview."
   ]
  },
  {
   "cell_type": "code",
   "execution_count": null,
   "metadata": {},
   "outputs": [],
   "source": []
  }
 ],
 "metadata": {
  "kernelspec": {
   "display_name": "Julia 1.11.6",
   "language": "julia",
   "name": "julia-1.11"
  },
  "language_info": {
   "file_extension": ".jl",
   "mimetype": "application/julia",
   "name": "julia",
   "version": "1.11.6"
  }
 },
 "nbformat": 4,
 "nbformat_minor": 4
}
