{
 "cells": [
  {
   "cell_type": "markdown",
   "id": "ecc126bb",
   "metadata": {},
   "source": [
    "# Geomorphometry in Julia \n",
    "\n",
    "We discuss (global) elevation modelling, including recent advances, and follow up with a hands-on session in Julia, where we will use Rasters.jl and Geomorphometry.jl to download, analyze and visualize a subset of a global elevation model. These operations include hydrological functions such as flow accumulation methods, and the differences between several common algorithms. The importance of the correct coordinate reference systems and cellsize of a raster will be demonstrated.\n",
    "\n",
    "Key (geospatial) concepts in Julia will be introduced, including the performance gains made possible with Julia, although prior exposure (can be by watching previous lectures) is expected. An introduction lecture to Julia will be given beforehand.\n"
   ]
  },
  {
   "cell_type": "markdown",
   "id": "bbc1b45f",
   "metadata": {
    "vscode": {
     "languageId": "julia"
    }
   },
   "source": [
    "# Open and crop a DTM\n",
    "Here we'll be using the GEDTM30 dataset, and crop it to my favourite holiday area in Austria."
   ]
  },
  {
   "cell_type": "code",
   "execution_count": null,
   "id": "ba792bb3",
   "metadata": {},
   "outputs": [],
   "source": [
    "using Rasters\n",
    "using ArchGDAL\n",
    "\n",
    "fn = \"https://s3.opengeohub.org/global/edtm/gedtm_rf_m_30m_s_20060101_20151231_go_epsg.4326.3855_v1.2.tif\"\n",
    "gedtm30 = Raster(fn, lazy=true)  # lazy is essential here!"
   ]
  },
  {
   "cell_type": "code",
   "execution_count": null,
   "id": "3b819360",
   "metadata": {},
   "outputs": [],
   "source": [
    "metadata(gedtm30)"
   ]
  },
  {
   "cell_type": "code",
   "execution_count": null,
   "id": "ad6ac637",
   "metadata": {},
   "outputs": [],
   "source": [
    "using Extents\n",
    "\n",
    "extent = Extent(X=(9.8, 10.0), Y=(47.3,47.5))\n",
    "voralberg = crop(gedtm30, to=extent) ./ 10 # !!! not in metadata, but data is scaled\n"
   ]
  },
  {
   "cell_type": "markdown",
   "id": "ecbce64f",
   "metadata": {},
   "source": [
    "Let's read the data into memory, so we can operate faster on it."
   ]
  },
  {
   "cell_type": "code",
   "execution_count": null,
   "id": "91f4e248",
   "metadata": {},
   "outputs": [],
   "source": [
    "voralberg = read(voralberg)\n",
    "Rasters.write(\"voralberg.tif\", voralberg, force=true)"
   ]
  },
  {
   "cell_type": "markdown",
   "id": "2c92d11c",
   "metadata": {},
   "source": [
    "# Plot\n",
    "Let's inspect our DTM to see what we're dealing with."
   ]
  },
  {
   "cell_type": "code",
   "execution_count": null,
   "id": "8158da3d",
   "metadata": {},
   "outputs": [],
   "source": [
    "using CairoMakie\n",
    "\n",
    "plot(voralberg, colormap=:turbo)  # a colormap that has a large range"
   ]
  },
  {
   "cell_type": "markdown",
   "id": "e4f2e447",
   "metadata": {},
   "source": [
    "# Geomorphometry\n",
    "To analyse the elevation model, let's use the Geomorphometry.jl package, which provides a range of tools for terrain analysis. You can find its complete documentation here: https://deltares.github.io/Geomorphometry.jl/dev/.\n",
    "\n",
    "Let's start with making a hillshade visualisation, as this can help us understand the terrain better."
   ]
  },
  {
   "cell_type": "code",
   "execution_count": null,
   "id": "1fca15f2",
   "metadata": {},
   "outputs": [],
   "source": [
    "using Geomorphometry\n",
    "\n",
    "plot(hillshade(voralberg))"
   ]
  },
  {
   "cell_type": "markdown",
   "id": "4409db24",
   "metadata": {},
   "source": [
    "Ah, we hit an error. For now, the package doesn't handle missing data well, so let's fil the missing values."
   ]
  },
  {
   "cell_type": "code",
   "execution_count": null,
   "id": "2cd8a186",
   "metadata": {},
   "outputs": [],
   "source": [
    "voralberg = coalesce.(voralberg, minimum(skipmissing(voralberg)))"
   ]
  },
  {
   "cell_type": "code",
   "execution_count": null,
   "id": "7e1bea87",
   "metadata": {},
   "outputs": [],
   "source": [
    "plot(hillshade(voralberg))"
   ]
  },
  {
   "cell_type": "markdown",
   "id": "f794d0da",
   "metadata": {},
   "source": [
    "A hillshade is not really realistic, so let's illuminate the terrain with specific (artificial) sun angles."
   ]
  },
  {
   "cell_type": "code",
   "execution_count": null,
   "id": "119b00b5",
   "metadata": {},
   "outputs": [],
   "source": [
    "plot(multihillshade(voralberg, azimuth = [90, 180, 270], zenith=30))"
   ]
  },
  {
   "cell_type": "markdown",
   "id": "b266992f",
   "metadata": {},
   "source": [
    "Another method to visualise terrain is the progressive slope shading method (PSSM), used in archeology to emphasize relative flat areas."
   ]
  },
  {
   "cell_type": "code",
   "execution_count": null,
   "id": "d7b79ef4",
   "metadata": {},
   "outputs": [],
   "source": [
    "f = plot(pssm(voralberg), colormap=:Greys)\n",
    "# save(\"voralberg_pssm.png\", f)  # this is how you would save a the picture\n",
    "f"
   ]
  },
  {
   "cell_type": "markdown",
   "id": "909a7793",
   "metadata": {},
   "source": [
    "# Slope\n",
    "Given the visualisation above already uses the slope, let us calculate it directly. We see it's really similar to the PSSM result, but PSSM darkens slopes much more."
   ]
  },
  {
   "cell_type": "code",
   "execution_count": null,
   "id": "5ba75def",
   "metadata": {},
   "outputs": [],
   "source": [
    "plot(slope(voralberg), colormap=:Greys)"
   ]
  },
  {
   "cell_type": "markdown",
   "id": "35647f61",
   "metadata": {},
   "source": [
    "## Automatic cellsize\n",
    "To calculate the slope, one uses rise over run, but you might've noticed that this is a geographic raster (latitude and longitude), but the elevation is in meters. Geomorphometry automatically calculates the correct cellsize for you. We can inspect that with `cellsize`:"
   ]
  },
  {
   "cell_type": "code",
   "execution_count": null,
   "id": "9e91af6d",
   "metadata": {},
   "outputs": [],
   "source": [
    "Geomorphometry.cellsize(voralberg)"
   ]
  },
  {
   "cell_type": "markdown",
   "id": "2d8fc885",
   "metadata": {},
   "source": [
    "And we can see the impact of not using the correct cellsize, with setting the `cellsize` kwarg to `(1,1)`, the degrees are interpreted as meters, resulting in very steep slopes."
   ]
  },
  {
   "cell_type": "code",
   "execution_count": null,
   "id": "61873152",
   "metadata": {},
   "outputs": [],
   "source": [
    "plot(slope(voralberg, cellsize=(1,1)))"
   ]
  },
  {
   "cell_type": "markdown",
   "id": "6dd05691",
   "metadata": {},
   "source": [
    "The cellsize is used for all cells, which is better than nothing, but note that this is still a simplification. In reality, geographic rasters can have varying cell sizes, especially when covering larger areas. We can see this by visualizing the cellsize across the raster, where the raster sizes becomes smaller towards the poles (higher latitudes).\n"
   ]
  },
  {
   "cell_type": "code",
   "execution_count": null,
   "id": "eded04ab",
   "metadata": {},
   "outputs": [],
   "source": [
    "import Proj\n",
    "plot(cellarea(voralberg))"
   ]
  },
  {
   "cell_type": "markdown",
   "id": "c783837d",
   "metadata": {},
   "source": [
    "## Multiple algorithms\n",
    "Geomorphometry supports multiple algorithms for analyses like slope, aspect, and others, enabling a deeper understanding of the terrain and its features. For example, there are three options for calculating slope:"
   ]
  },
  {
   "cell_type": "code",
   "execution_count": null,
   "id": "e9e242d4",
   "metadata": {},
   "outputs": [],
   "source": [
    "A = slope(voralberg, method=ZevenbergenThorne())\n",
    "B = slope(voralberg, method=Horn())\n",
    "C = slope(voralberg, method=Geomorphometry.MaximumDownwardGradient())\n",
    "\n",
    "f = Figure(size=(900, 300))\n",
    "a = Axis(f[1, 1], aspect=AxisAspect(1), title = \"ZevenbergenThorne\")\n",
    "b = Axis(f[1, 2], aspect=AxisAspect(1), title = \"Horn\")\n",
    "c = Axis(f[1, 3], aspect=AxisAspect(1), title = \"MDG\")\n",
    "\n",
    "plot!(a, A)\n",
    "plot!(b, B)\n",
    "plot!(c, C)\n",
    "f"
   ]
  },
  {
   "cell_type": "markdown",
   "id": "05c41c15",
   "metadata": {},
   "source": [
    "# Aspect\n",
    "The same is true for aspect, which is the direction the slope faces (so full 360 degrees)."
   ]
  },
  {
   "cell_type": "code",
   "execution_count": null,
   "id": "fa617ed6",
   "metadata": {},
   "outputs": [],
   "source": [
    "plot(aspect(voralberg; method=Horn()); colormap=:romaO)"
   ]
  },
  {
   "cell_type": "markdown",
   "id": "a15d4400",
   "metadata": {},
   "source": [
    "# Curvature\n",
    "Curvature describes how much the slope changes, and can be useful to identify ridges and valleys."
   ]
  },
  {
   "cell_type": "code",
   "execution_count": null,
   "id": "17fdb5bb",
   "metadata": {},
   "outputs": [],
   "source": [
    "# heatmap(profile_curvature(voralberg); colorrange=(-0.1,0.1), colormap=:tarn)\n",
    "# heatmap(plan_curvature(voralberg); colorrange=(-0.1,0.1), colormap=:tarn)\n",
    "# heatmap(tangential_curvature(voralberg); colorrange=(-0.1,0.1), colormap=:tarn)\n",
    "heatmap(laplacian(voralberg); colorrange=(-0.1,0.1), colormap=:tarn)"
   ]
  },
  {
   "cell_type": "markdown",
   "id": "e4cbf189",
   "metadata": {},
   "source": [
    "# Relative position\n",
    "There are several terrain descriptors that can be used to analyze the relative position of a point with respect to its neighbors. These include TPI, TRI, RIE, BPI, rugosity and roughness."
   ]
  },
  {
   "cell_type": "code",
   "execution_count": null,
   "id": "92d65d6f",
   "metadata": {},
   "outputs": [],
   "source": [
    "plot(TPI(voralberg), colormap=:delta, colorrange=(-10,10))\n"
   ]
  },
  {
   "cell_type": "markdown",
   "id": "2720cf3a",
   "metadata": {},
   "source": [
    "This output is a bit noisy, as there's noise in the GEDTM30 (any global dataset). For better results we can use a larger custom sized Window operation (from [Stencils.jl](https://rafaqz.github.io/Stencils.jl/dev)) to reduce the impact of this noise."
   ]
  },
  {
   "cell_type": "code",
   "execution_count": null,
   "id": "cba90d53",
   "metadata": {},
   "outputs": [],
   "source": [
    "Geomorphometry.Moore(1)  # this is the default 8 neighbors"
   ]
  },
  {
   "cell_type": "code",
   "execution_count": null,
   "id": "75b72d40",
   "metadata": {},
   "outputs": [],
   "source": [
    "window = Geomorphometry.Annulus(4, 3)  # no direct neighbors at all!"
   ]
  },
  {
   "cell_type": "markdown",
   "id": "3f2c591c",
   "metadata": {},
   "source": [
    "Using this larger window produces much clearer results:"
   ]
  },
  {
   "cell_type": "code",
   "execution_count": null,
   "id": "1c448260",
   "metadata": {},
   "outputs": [],
   "source": [
    "plot(TPI(voralberg, window); colormap=:delta, colorrange=(-10,10))"
   ]
  },
  {
   "cell_type": "markdown",
   "id": "e479ec9e",
   "metadata": {},
   "source": [
    "# Hydrology\n",
    "Geomorphometry has some methods for hydrology, including flow accumulation. There are again several algorithms available:"
   ]
  },
  {
   "cell_type": "code",
   "execution_count": null,
   "id": "68c61515",
   "metadata": {},
   "outputs": [],
   "source": [
    "v = voralberg[1:200, 1:200]  # we zoom in a bit\n",
    "\n",
    "accD8, lddD8 = flowaccumulation(v; method=D8())\n",
    "accDInf, lddDInf = flowaccumulation(v; method=DInf())\n",
    "accFD8, lddFD8 = flowaccumulation(v; method=FD8())\n",
    "\n",
    "f = Figure(size=(1200, 400))\n",
    "a = Axis(f[1, 1], aspect=AxisAspect(1), title = \"D8\")\n",
    "b = Axis(f[1, 2], aspect=AxisAspect(1), title = \"DInf\")\n",
    "c = Axis(f[1, 3], aspect=AxisAspect(1), title = \"FD8\")\n",
    "\n",
    "plot!(a, log10.(accD8), colormap=:rain, colorrange=(3,10))\n",
    "plot!(b, log10.(accDInf), colormap=:rain, colorrange=(3,10))\n",
    "plot!(c, log10.(accFD8), colormap=:rain, colorrange=(3,10))\n",
    "f\n"
   ]
  },
  {
   "cell_type": "markdown",
   "id": "ec390cbb",
   "metadata": {},
   "source": [
    "# Going beyond\n",
    "There's more to explore in Geomorphometry.jl, for example, filters for classification, directional slope and curvature, and cost-distance analysis, but this has to do for now. Please check out the documentation at https://deltares.github.io/Geomorphometry.jl/."
   ]
  },
  {
   "cell_type": "markdown",
   "id": "ace70e6e",
   "metadata": {},
   "source": [
    "*Finally, don't forget that open-source only works if you take part of it! Please report bugs, issues, and feature requests at Github.*"
   ]
  }
 ],
 "metadata": {
  "kernelspec": {
   "display_name": "Julia 1.11.6",
   "language": "julia",
   "name": "julia-1.11"
  },
  "language_info": {
   "file_extension": ".jl",
   "mimetype": "application/julia",
   "name": "julia",
   "version": "1.11.6"
  }
 },
 "nbformat": 4,
 "nbformat_minor": 5
}
